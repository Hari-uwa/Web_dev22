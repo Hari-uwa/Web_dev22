{
 "cells": [
  {
   "cell_type": "code",
   "execution_count": 15,
   "id": "c7f187f8",
   "metadata": {},
   "outputs": [],
   "source": [
    "import sys\n",
    "\n",
    "sys.path.append(\"..\") # allows for the previous directory to be searched too\n",
    "\n",
    "from app import db\n",
    "from app.models import User,Quiz,Game #imports all tables\n",
    "from sqlalchemy import func"
   ]
  },
  {
   "cell_type": "markdown",
   "id": "ac1b86b9",
   "metadata": {},
   "source": [
    "#### Query for global max streak:"
   ]
  },
  {
   "cell_type": "code",
   "execution_count": 41,
   "id": "376e34f6",
   "metadata": {},
   "outputs": [
    {
     "data": {
      "text/plain": [
       "20"
      ]
     },
     "execution_count": 41,
     "metadata": {},
     "output_type": "execute_result"
    }
   ],
   "source": [
    "#User table has a column for the max streaks of an individual\n",
    "\n",
    "db.session.query(func.max(User.max_streak)).scalar()"
   ]
  },
  {
   "cell_type": "markdown",
   "id": "1ba29ba5",
   "metadata": {},
   "source": [
    "##### Query for daily equation:"
   ]
  },
  {
   "cell_type": "code",
   "execution_count": 91,
   "id": "5a71ce23",
   "metadata": {},
   "outputs": [
    {
     "data": {
      "text/plain": [
       "<Quiz 6,1,*,9,9,+,3,6,6075>"
      ]
     },
     "execution_count": 91,
     "metadata": {},
     "output_type": "execute_result"
    }
   ],
   "source": [
    "from datetime import date\n",
    "\n",
    "ref= date(2022,4,4)\n",
    "\n",
    "today=date.today()\n",
    "\n",
    "index= (today-ref).days\n",
    "\n",
    "Quiz.query.filter(Quiz.quiz_id==index).first()\n",
    "\n",
    "\n",
    "\n"
   ]
  },
  {
   "cell_type": "code",
   "execution_count": null,
   "id": "8f82f58b",
   "metadata": {},
   "outputs": [],
   "source": []
  }
 ],
 "metadata": {
  "kernelspec": {
   "display_name": "Python 3 (ipykernel)",
   "language": "python",
   "name": "python3"
  },
  "language_info": {
   "codemirror_mode": {
    "name": "ipython",
    "version": 3
   },
   "file_extension": ".py",
   "mimetype": "text/x-python",
   "name": "python",
   "nbconvert_exporter": "python",
   "pygments_lexer": "ipython3",
   "version": "3.8.10"
  }
 },
 "nbformat": 4,
 "nbformat_minor": 5
}
