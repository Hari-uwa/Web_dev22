{
 "cells": [
  {
   "cell_type": "markdown",
   "id": "dcdd3812",
   "metadata": {
    "scrolled": true
   },
   "source": [
    "# Use to INSERT/ VIEW/ DELETE data in User, Quiz, Game tables"
   ]
  },
  {
   "cell_type": "code",
   "execution_count": 1,
   "id": "46f4abe3",
   "metadata": {},
   "outputs": [
    {
     "ename": "ModuleNotFoundError",
     "evalue": "No module named 'flask_sqlalchemy'",
     "output_type": "error",
     "traceback": [
      "\u001b[1;31m---------------------------------------------------------------------------\u001b[0m",
      "\u001b[1;31mModuleNotFoundError\u001b[0m                       Traceback (most recent call last)",
      "\u001b[1;32m<ipython-input-1-04efaeda8a53>\u001b[0m in \u001b[0;36m<module>\u001b[1;34m\u001b[0m\n\u001b[0;32m      3\u001b[0m \u001b[0msys\u001b[0m\u001b[1;33m.\u001b[0m\u001b[0mpath\u001b[0m\u001b[1;33m.\u001b[0m\u001b[0mappend\u001b[0m\u001b[1;33m(\u001b[0m\u001b[1;34m\"..\"\u001b[0m\u001b[1;33m)\u001b[0m \u001b[1;31m# allows for the previous directory to be searched too\u001b[0m\u001b[1;33m\u001b[0m\u001b[1;33m\u001b[0m\u001b[0m\n\u001b[0;32m      4\u001b[0m \u001b[1;33m\u001b[0m\u001b[0m\n\u001b[1;32m----> 5\u001b[1;33m \u001b[1;32mfrom\u001b[0m \u001b[0mapp\u001b[0m \u001b[1;32mimport\u001b[0m \u001b[0mdb\u001b[0m\u001b[1;33m\u001b[0m\u001b[1;33m\u001b[0m\u001b[0m\n\u001b[0m\u001b[0;32m      6\u001b[0m \u001b[1;32mfrom\u001b[0m \u001b[0mapp\u001b[0m\u001b[1;33m.\u001b[0m\u001b[0mmodels\u001b[0m \u001b[1;32mimport\u001b[0m \u001b[0mQuiz\u001b[0m\u001b[1;33m,\u001b[0m\u001b[0mUser\u001b[0m\u001b[1;33m,\u001b[0m\u001b[0mGame\u001b[0m \u001b[1;31m#imports Quiz table\u001b[0m\u001b[1;33m\u001b[0m\u001b[1;33m\u001b[0m\u001b[0m\n\u001b[0;32m      7\u001b[0m \u001b[1;32mfrom\u001b[0m \u001b[0msqlalchemy\u001b[0m \u001b[1;32mimport\u001b[0m \u001b[0mexc\u001b[0m\u001b[1;33m\u001b[0m\u001b[1;33m\u001b[0m\u001b[0m\n",
      "\u001b[1;32mc:\\Users\\user\\OneDrive - The University of Western Australia\\Units\\CITS3403\\Project\\Web_dev22\\app\\__init__.py\u001b[0m in \u001b[0;36m<module>\u001b[1;34m\u001b[0m\n\u001b[0;32m      4\u001b[0m \u001b[1;32mfrom\u001b[0m \u001b[0mconfig\u001b[0m \u001b[1;32mimport\u001b[0m \u001b[0mConfig\u001b[0m\u001b[1;33m\u001b[0m\u001b[1;33m\u001b[0m\u001b[0m\n\u001b[0;32m      5\u001b[0m \u001b[1;33m\u001b[0m\u001b[0m\n\u001b[1;32m----> 6\u001b[1;33m \u001b[1;32mfrom\u001b[0m \u001b[0mflask_sqlalchemy\u001b[0m \u001b[1;32mimport\u001b[0m \u001b[0mSQLAlchemy\u001b[0m\u001b[1;33m\u001b[0m\u001b[1;33m\u001b[0m\u001b[0m\n\u001b[0m\u001b[0;32m      7\u001b[0m \u001b[1;32mfrom\u001b[0m \u001b[0mflask_migrate\u001b[0m \u001b[1;32mimport\u001b[0m \u001b[0mMigrate\u001b[0m\u001b[1;33m\u001b[0m\u001b[1;33m\u001b[0m\u001b[0m\n\u001b[0;32m      8\u001b[0m \u001b[1;32mfrom\u001b[0m \u001b[0mflask_login\u001b[0m \u001b[1;32mimport\u001b[0m \u001b[0mLoginManager\u001b[0m\u001b[1;33m\u001b[0m\u001b[1;33m\u001b[0m\u001b[0m\n",
      "\u001b[1;31mModuleNotFoundError\u001b[0m: No module named 'flask_sqlalchemy'"
     ]
    }
   ],
   "source": [
    "import sys\n",
    "\n",
    "sys.path.append(\"..\") # allows for the previous directory to be searched too\n",
    "\n",
    "from app import db\n",
    "from app.models import Quiz,User,Game #imports Quiz table\n",
    "from sqlalchemy import exc"
   ]
  },
  {
   "cell_type": "markdown",
   "id": "29b77a85",
   "metadata": {},
   "source": [
    "##### View contents:"
   ]
  },
  {
   "cell_type": "code",
   "execution_count": null,
   "id": "48d5cab3",
   "metadata": {},
   "outputs": [
    {
     "ename": "",
     "evalue": "",
     "output_type": "error",
     "traceback": [
      "\u001b[1;31mRunning cells with 'Python 3.10.0 ('tut_venv': venv)' requires ipykernel package.\n",
      "Run the following command to install 'ipykernel' into the Python environment. \n",
      "Command: '\"c:/Users/user/OneDrive - The University of Western Australia/Units/CITS3403/Project/Web_dev22/tut_venv/Scripts/python.exe\" -m pip install ipykernel -U --force-reinstall'"
     ]
    }
   ],
   "source": [
    "#Query to show all elements in Quiz Table\n",
    "quiz=Quiz.query.all()\n",
    "quiz"
   ]
  },
  {
   "cell_type": "code",
   "execution_count": 24,
   "id": "e2c2170b",
   "metadata": {},
   "outputs": [
    {
     "data": {
      "text/plain": [
       "[<User 1, username:carmen>]"
      ]
     },
     "execution_count": 24,
     "metadata": {},
     "output_type": "execute_result"
    }
   ],
   "source": [
    "user = User.query.all()\n",
    "user"
   ]
  },
  {
   "cell_type": "code",
   "execution_count": 28,
   "id": "c663137e",
   "metadata": {},
   "outputs": [
    {
     "data": {
      "text/plain": [
       "[]"
      ]
     },
     "execution_count": 28,
     "metadata": {},
     "output_type": "execute_result"
    }
   ],
   "source": [
    "game = Game.query.all()\n",
    "game"
   ]
  },
  {
   "cell_type": "code",
   "execution_count": 30,
   "id": "e327adcc",
   "metadata": {},
   "outputs": [
    {
     "data": {
      "text/plain": [
       "0"
      ]
     },
     "execution_count": 30,
     "metadata": {},
     "output_type": "execute_result"
    }
   ],
   "source": [
    "Game.query.filter(Game.quiz_id==3).count()"
   ]
  },
  {
   "cell_type": "markdown",
   "id": "985ef619",
   "metadata": {},
   "source": [
    "#### Delete Contents"
   ]
  },
  {
   "cell_type": "code",
   "execution_count": 27,
   "id": "8e340cf6",
   "metadata": {},
   "outputs": [],
   "source": [
    "try:\n",
    "    num_rows_deleted = db.session.query(Game).delete()\n",
    "    db.session.commit()\n",
    "except:\n",
    "    db.session.rollback()"
   ]
  },
  {
   "cell_type": "markdown",
   "id": "3c53b74f",
   "metadata": {},
   "source": [
    "##### Scripts to generate random equation:"
   ]
  },
  {
   "cell_type": "code",
   "execution_count": 5,
   "id": "772d1a0b",
   "metadata": {},
   "outputs": [],
   "source": [
    "import random\n",
    "\n",
    "def bidmas_calc(input):\n",
    "    equ = \"\".join(input)\n",
    "    return eval(equ)\n",
    "\n",
    "def equation(): #generates a random equation as comma separated string\n",
    "    while 1:\n",
    "        output = [] \n",
    "        ops = ['+', '-', '*', '/']\n",
    "    \n",
    "        for i in range(8): #creates a random list with 8 numbers\n",
    "            n = random.randint(1,9)\n",
    "            output.append(str(n))\n",
    "    \n",
    "        operation1 = random.choice(ops)\n",
    "        operation2 = random.choice(ops)\n",
    "        output[2] = operation1\n",
    "        output[5] = operation2\n",
    "        \n",
    "        try:\n",
    "            target=bidmas_calc(output)\n",
    "        except ZeroDivisionError: \n",
    "            pass\n",
    "        if type(target)!=float: # validator to only end while-loop when an equation has an integer answer\n",
    "            output.append(str(target))                   \n",
    "            break\n",
    "            \n",
    "    out_str=','.join(output) #converts the list to a comma separated string\n",
    "    return out_str"
   ]
  },
  {
   "cell_type": "markdown",
   "id": "8466cf94",
   "metadata": {},
   "source": [
    "##### INSERT to the Quiz Table:"
   ]
  },
  {
   "cell_type": "code",
   "execution_count": 6,
   "id": "15e08e6b",
   "metadata": {
    "collapsed": true
   },
   "outputs": [
    {
     "name": "stderr",
     "output_type": "stream",
     "text": [
      "C:\\Users\\user\\AppData\\Local\\Temp\\ipykernel_21996\\3121335587.py:19: SAWarning: Session's state has been changed on a non-active transaction - this state will be discarded.\n",
      "  db.session.rollback()\n"
     ]
    },
    {
     "name": "stdout",
     "output_type": "stream",
     "text": [
      "2 3,3,-,2,1,*,8,7,-1794\n",
      "3 2,1,-,3,3,-,9,9,-111\n",
      "4 9,6,*,7,5,-,1,2,7188\n",
      "5 8,3,*,5,5,+,3,1,4596\n",
      "6 7,6,*,4,9,-,8,5,3639\n",
      "7 7,4,+,5,3,-,1,5,112\n",
      "8 5,1,*,1,8,*,8,7,79866\n",
      "9 4,7,-,7,4,-,7,1,-98\n",
      "10 1,9,-,2,6,*,1,6,-397\n",
      "11 3,7,-,9,9,-,5,5,-117\n",
      "12 1,5,*,9,9,+,8,4,1569\n",
      "13 3,6,-,6,4,+,2,6,-2\n",
      "14 9,2,+,5,9,+,2,6,177\n",
      "15 4,4,*,7,5,*,5,8,191400\n",
      "16 8,5,-,7,9,+,2,8,34\n",
      "17 1,4,+,2,9,*,4,1,1203\n",
      "18 5,8,*,4,9,+,9,4,2936\n",
      "19 1,1,+,6,8,-,4,3,36\n",
      "20 6,8,+,9,4,-,5,3,109\n",
      "21 4,1,*,9,2,*,6,2,233864\n",
      "22 6,3,-,7,8,-,5,2,-67\n",
      "23 7,9,+,2,1,+,9,3,193\n",
      "24 1,9,*,2,3,+,5,2,489\n",
      "25 6,8,+,4,6,*,7,6,3564\n",
      "26 2,9,+,2,5,-,9,6,-42\n",
      "27 3,5,+,1,2,+,9,1,138\n",
      "28 6,9,+,3,3,*,4,2,1455\n",
      "29 4,5,*,2,2,-,8,7,903\n",
      "30 1,3,+,4,3,*,9,2,3969\n",
      "31 8,8,*,2,6,+,2,8,2316\n",
      "32 6,1,+,3,4,*,9,6,3325\n",
      "33 9,8,*,3,1,-,3,3,3005\n",
      "34 9,8,+,4,9,*,5,9,2989\n",
      "35 4,4,*,5,6,+,2,3,2487\n",
      "36 6,3,-,3,1,+,2,4,56\n",
      "37 2,3,+,8,2,-,3,9,66\n",
      "38 2,7,+,6,1,+,8,2,170\n",
      "39 8,4,-,2,5,+,5,8,117\n",
      "40 5,6,+,9,4,-,7,8,72\n",
      "41 3,8,*,9,8,-,3,4,3690\n",
      "42 6,7,+,7,3,*,5,9,4374\n",
      "43 6,4,*,3,8,-,9,8,2334\n",
      "44 3,7,+,7,8,+,9,7,212\n",
      "45 6,7,-,2,1,+,1,9,65\n",
      "46 1,5,*,6,1,+,3,2,947\n",
      "47 7,6,+,7,6,+,2,5,177\n",
      "48 1,1,+,4,8,+,3,1,90\n",
      "49 5,1,+,3,9,*,5,8,2313\n",
      "50 4,8,+,8,9,-,2,4,113\n",
      "51 9,5,*,1,8,*,8,5,145350\n",
      "52 5,2,*,1,4,*,2,4,17472\n",
      "53 7,6,*,3,8,+,9,2,2980\n",
      "54 6,5,*,6,9,*,7,7,345345\n",
      "55 8,9,*,6,1,+,8,2,5511\n",
      "56 3,2,+,6,8,*,4,2,2888\n",
      "57 2,4,*,8,4,*,8,4,169344\n",
      "58 6,6,-,6,4,-,1,2,-10\n",
      "59 5,3,+,1,9,*,1,6,357\n",
      "60 7,9,*,5,2,-,4,4,4064\n",
      "61 7,5,-,3,4,*,3,6,-1149\n",
      "62 3,4,+,2,7,*,9,1,2491\n",
      "63 6,7,+,1,6,-,5,8,25\n",
      "64 2,7,-,5,2,+,1,8,-7\n",
      "65 7,2,+,4,1,+,9,1,204\n",
      "66 5,6,*,3,4,+,8,5,1989\n",
      "67 6,5,*,5,3,-,1,1,3434\n",
      "68 8,6,+,6,1,+,8,4,231\n",
      "69 9,4,+,8,7,*,5,8,5140\n",
      "70 8,9,+,4,8,-,7,9,58\n",
      "71 6,5,-,9,8,*,1,1,-1013\n",
      "72 2,2,*,1,2,+,1,1,275\n",
      "73 7,8,+,5,3,-,9,2,39\n",
      "74 6,5,-,7,6,+,5,1,40\n",
      "75 2,8,+,1,1,+,2,6,65\n",
      "76 1,1,+,3,7,*,2,3,862\n",
      "77 1,3,-,5,1,*,7,6,-3863\n",
      "78 6,7,*,6,4,+,9,2,4380\n",
      "79 6,9,*,9,4,-,7,8,6408\n",
      "80 3,3,-,7,3,-,9,8,-138\n",
      "81 9,6,-,1,5,+,8,5,166\n",
      "82 5,8,*,9,8,-,3,5,5649\n",
      "83 7,5,+,9,1,*,8,1,7446\n",
      "84 8,9,+,2,2,-,8,3,28\n",
      "85 8,2,+,8,3,-,3,6,129\n",
      "86 7,1,+,2,5,-,4,7,49\n",
      "87 4,5,+,9,9,*,3,2,3213\n",
      "88 3,9,-,5,4,-,3,6,-51\n",
      "89 5,7,*,7,6,+,9,1,4423\n",
      "90 6,4,*,1,4,*,9,7,86912\n",
      "91 2,7,-,2,2,+,7,9,84\n",
      "92 5,2,*,5,7,*,5,1,151164\n",
      "93 6,1,*,9,1,+,3,8,5589\n",
      "94 6,5,+,5,8,-,5,2,71\n",
      "95 4,8,+,3,8,*,1,4,580\n",
      "96 3,9,+,2,4,-,5,2,11\n",
      "97 5,9,+,7,6,*,2,3,1807\n",
      "98 8,6,-,9,3,-,6,4,-71\n",
      "99 3,7,*,9,5,*,6,5,228475\n",
      "100 8,5,-,8,7,*,8,1,-6962\n",
      "101 3,9,*,2,2,-,4,8,810\n",
      "102 7,5,-,6,4,+,4,2,53\n",
      "103 8,5,-,3,5,+,3,4,84\n",
      "104 2,4,+,6,6,+,2,4,114\n",
      "105 2,3,+,5,4,*,1,6,887\n",
      "106 5,2,+,3,9,+,1,8,109\n",
      "107 9,2,*,8,9,*,9,2,753296\n",
      "108 8,1,*,4,8,-,8,1,3807\n",
      "109 1,8,*,9,4,+,6,2,1754\n",
      "110 3,2,+,9,5,-,8,2,45\n",
      "111 6,3,-,4,8,*,1,9,-849\n",
      "112 3,9,-,7,4,*,4,2,-3069\n",
      "113 5,4,*,3,6,*,8,5,165240\n",
      "114 5,5,*,6,1,*,3,9,130845\n",
      "115 3,2,-,3,6,*,4,5,-1588\n",
      "116 8,8,+,2,4,-,8,1,31\n",
      "117 3,7,+,1,2,-,4,7,2\n",
      "118 2,4,-,7,4,*,7,4,-5452\n",
      "119 8,2,-,4,4,*,7,4,-3174\n",
      "120 2,8,*,6,2,-,2,9,1707\n",
      "121 9,7,-,4,9,+,1,1,59\n",
      "122 5,2,-,8,5,-,7,4,-107\n",
      "123 6,8,+,2,8,*,5,5,1608\n",
      "124 5,6,-,8,9,+,3,1,-2\n",
      "125 4,2,*,8,3,*,4,5,156870\n",
      "126 4,9,*,7,7,+,8,1,3854\n",
      "127 4,9,*,2,1,-,4,7,982\n",
      "128 3,2,-,3,2,+,7,7,77\n",
      "129 8,9,-,3,1,+,3,1,89\n",
      "130 8,1,*,2,6,+,1,6,2122\n",
      "131 1,1,*,6,8,-,7,9,669\n",
      "132 6,5,+,9,6,+,3,4,195\n",
      "133 6,3,+,8,4,+,5,1,198\n",
      "134 8,1,-,5,4,*,1,7,-837\n",
      "135 1,1,*,3,8,+,4,2,460\n",
      "136 8,4,-,2,6,+,4,3,101\n",
      "137 9,5,*,8,5,*,4,3,347225\n",
      "138 3,7,+,4,1,+,2,8,106\n",
      "139 2,7,*,1,2,*,8,8,28512\n",
      "140 8,9,+,4,6,*,4,2,2021\n",
      "141 1,3,-,8,1,*,6,5,-5252\n",
      "142 2,6,-,2,3,*,6,5,-1469\n",
      "143 7,8,*,7,7,-,2,6,5980\n",
      "144 8,9,-,2,3,-,9,5,-29\n",
      "145 1,3,*,9,5,*,2,8,34580\n",
      "146 7,2,*,2,7,-,7,4,1870\n",
      "147 5,8,+,2,4,*,1,1,322\n",
      "148 4,7,*,2,4,+,8,3,1211\n",
      "149 4,1,*,1,8,-,6,8,670\n",
      "150 5,1,*,3,3,+,7,6,1759\n",
      "151 6,1,*,4,4,+,5,2,2736\n",
      "152 2,9,-,5,8,*,2,7,-1537\n",
      "153 2,4,*,6,9,-,9,9,1557\n",
      "154 9,8,*,5,9,+,5,6,5838\n",
      "155 9,3,-,6,9,-,7,2,-48\n",
      "156 6,2,-,6,4,*,2,3,-1410\n",
      "157 8,5,-,7,7,*,4,5,-3380\n",
      "158 4,5,*,2,6,+,9,2,1262\n",
      "159 9,8,*,7,1,*,9,8,681884\n",
      "160 4,4,*,4,8,*,6,9,145728\n",
      "161 8,9,+,3,3,+,5,5,177\n",
      "162 2,3,+,4,7,*,9,9,4676\n",
      "163 2,1,*,2,4,*,8,6,43344\n",
      "164 8,4,*,3,6,-,7,2,2952\n",
      "165 8,2,+,7,8,*,2,9,2344\n",
      "166 2,7,-,1,9,*,8,2,-1531\n",
      "167 5,5,*,1,1,+,6,4,669\n",
      "168 6,3,+,8,5,+,9,7,245\n",
      "169 7,8,-,6,5,+,1,1,24\n",
      "170 8,7,*,6,2,+,8,8,5482\n",
      "171 4,4,-,7,1,-,8,6,-113\n",
      "172 7,6,+,5,6,+,9,7,229\n",
      "173 3,9,+,6,6,*,2,3,1557\n",
      "174 2,5,-,4,1,*,4,8,-1943\n",
      "175 9,3,*,5,8,+,8,7,5481\n",
      "176 2,5,*,1,3,+,9,4,419\n",
      "177 3,5,+,7,6,*,7,2,5507\n",
      "178 5,3,*,2,5,*,7,6,100700\n",
      "179 4,3,*,5,5,-,5,4,2311\n",
      "180 9,3,*,3,3,-,9,3,2976\n",
      "181 4,5,-,2,3,+,5,8,80\n",
      "182 9,3,-,3,1,-,7,1,-9\n",
      "183 8,5,+,9,1,+,3,9,215\n",
      "184 1,8,*,5,9,*,5,5,58410\n",
      "185 8,1,+,8,7,-,9,2,76\n",
      "186 5,3,+,9,7,-,1,8,132\n",
      "187 3,2,-,6,6,-,2,2,-56\n",
      "188 9,3,+,5,9,+,9,5,247\n",
      "189 5,7,+,1,9,+,3,3,109\n",
      "190 7,1,*,3,3,*,5,9,138237\n",
      "191 2,8,-,5,1,+,6,7,44\n",
      "192 1,9,-,9,1,*,2,8,-2529\n",
      "193 3,6,-,9,6,*,3,9,-3708\n",
      "194 4,5,*,2,1,+,9,6,1041\n",
      "195 3,1,-,4,9,-,5,5,-73\n",
      "196 2,1,*,8,8,-,9,5,1753\n",
      "197 9,1,+,9,6,+,7,7,264\n",
      "198 9,2,+,7,5,-,6,3,104\n",
      "199 6,4,*,3,6,+,9,1,2395\n"
     ]
    }
   ],
   "source": [
    "#use to upload equations to Quiz Table\n",
    "def update_db_quiz():    \n",
    "    for i in range(200): #set range of quiz_id\n",
    "        \n",
    "        try:                   \n",
    "            eq=equation()\n",
    "            q = Quiz(quiz_id=i, equation=eq)\n",
    "            db.session.add(q)\n",
    "            db.session.commit()\n",
    "            print(i,eq)\n",
    "        except exc.IntegrityError:\n",
    "            pass\n",
    "        except exc.PendingRollbackError:\n",
    "            db.session.rollback()\n",
    "        \n",
    "update_db_quiz()"
   ]
  },
  {
   "cell_type": "code",
   "execution_count": null,
   "id": "f8028608",
   "metadata": {},
   "outputs": [],
   "source": []
  }
 ],
 "metadata": {
  "interpreter": {
   "hash": "a077222d77dfe082b8f1dd562ad70e458ac2ab76993a0b248ab0476e32e9e8dd"
  },
  "kernelspec": {
   "display_name": "Python 3.8.3 ('base')",
   "language": "python",
   "name": "python3"
  },
  "language_info": {
   "codemirror_mode": {
    "name": "ipython",
    "version": 3
   },
   "file_extension": ".py",
   "mimetype": "text/x-python",
   "name": "python",
   "nbconvert_exporter": "python",
   "pygments_lexer": "ipython3",
   "version": "3.8.3"
  }
 },
 "nbformat": 4,
 "nbformat_minor": 5
}
