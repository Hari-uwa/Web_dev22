{
 "cells": [
  {
   "cell_type": "code",
   "execution_count": null,
   "id": "c7f187f8",
   "metadata": {},
   "outputs": [
    {
     "ename": "",
     "evalue": "",
     "output_type": "error",
     "traceback": [
      "\u001b[1;31mFailed to start the Kernel. \n",
      "View Jupyter <a href='command:jupyter.viewOutput'>log</a> for further details."
     ]
    }
   ],
   "source": [
    "import sys\n",
    "sys.path.append(\"..\") # allows for the previous directory to be searched too\n",
    "from app import db\n",
    "from app.models import User,Quiz,Game #imports all tables\n",
    "from sqlalchemy import func"
   ]
  },
  {
   "cell_type": "markdown",
   "id": "1ba29ba5",
   "metadata": {},
   "source": [
    "##### Query for daily equation:"
   ]
  },
  {
   "cell_type": "code",
   "execution_count": null,
   "id": "5a71ce23",
   "metadata": {},
   "outputs": [
    {
     "data": {
      "text/plain": [
       "<Quiz 6,1,*,9,9,+,3,6,6075>"
      ]
     },
     "execution_count": 91,
     "metadata": {},
     "output_type": "execute_result"
    },
    {
     "ename": "",
     "evalue": "",
     "output_type": "error",
     "traceback": [
      "\u001b[1;31mFailed to start the Kernel. \n",
      "View Jupyter <a href='command:jupyter.viewOutput'>log</a> for further details."
     ]
    }
   ],
   "source": [
    "from datetime import date\n",
    "\n",
    "ref= date(2022,4,4)\n",
    "\n",
    "today=date.today()\n",
    "\n",
    "index= (today-ref).days\n",
    "\n",
    "Quiz.query.filter(Quiz.quiz_id==index).first()"
   ]
  },
  {
   "cell_type": "code",
   "execution_count": null,
   "id": "8f82f58b",
   "metadata": {},
   "outputs": [
    {
     "ename": "",
     "evalue": "",
     "output_type": "error",
     "traceback": [
      "\u001b[1;31mFailed to start the Kernel. \n",
      "View Jupyter <a href='command:jupyter.viewOutput'>log</a> for further details."
     ]
    }
   ],
   "source": []
  }
 ],
 "metadata": {
  "interpreter": {
   "hash": "36d168a811809521ddaf2995c3f01e7be2c8cf2605126f9c3ec0fb0786a940f7"
  },
  "kernelspec": {
   "display_name": "Python 3.8.2 ('venv': venv)",
   "language": "python",
   "name": "python3"
  },
  "language_info": {
   "codemirror_mode": {
    "name": "ipython",
    "version": 3
   },
   "file_extension": ".py",
   "mimetype": "text/x-python",
   "name": "python",
   "nbconvert_exporter": "python",
   "pygments_lexer": "ipython3",
   "version": "3.8.2"
  }
 },
 "nbformat": 4,
 "nbformat_minor": 5
}
