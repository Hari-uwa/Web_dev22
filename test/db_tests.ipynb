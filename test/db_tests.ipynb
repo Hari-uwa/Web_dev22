{
 "cells": [
  {
   "cell_type": "code",
   "execution_count": 27,
   "id": "39db6cc2",
   "metadata": {},
   "outputs": [],
   "source": [
    "import sys\n",
    "\n",
    "\n",
    "sys.path.append(\"..\") # allows for the previous directory to be searched too\n",
    "\n",
    "from app import db\n",
    "from app.models import Quiz,User,Game #imports Quiz table\n",
    "from sqlalchemy import exc"
   ]
  },
  {
   "cell_type": "code",
   "execution_count": 43,
   "id": "8a5e91ba",
   "metadata": {},
   "outputs": [
    {
     "name": "stdout",
     "output_type": "stream",
     "text": [
      "1 carmen pbkdf2:sha256:260000$FZTeE2Aq5kjyH4fF$206d978ca7f0487bac9800345683d4ff91393e2e370586bd35b51935daaaf81f\n",
      "2 brian pbkdf2:sha256:260000$zzq21IbavPNAkWAV$c69d00ba9183f8d511a7e5907970e63353de03d50c7f5ad343dfd6f8cc0f03cf\n",
      "85779176 hariv20 pbkdf2:sha256:260000$QzId0gqMXZRenQab$f177ff26fc2ece51f5e175cc6aebe3b4d8589f3cd9aba8ff128196e297d78474\n"
     ]
    }
   ],
   "source": [
    "u=User.query.all()\n",
    "for i in u:\n",
    "    print(i.id,i.password_hash)"
   ]
  },
  {
   "cell_type": "code",
   "execution_count": 60,
   "id": "6b419f11",
   "metadata": {},
   "outputs": [
    {
     "name": "stdout",
     "output_type": "stream",
     "text": [
      "1 1 3 True 6\n",
      "89196268 85779176 1 True 60\n"
     ]
    }
   ],
   "source": [
    "g=Game.query.all()\n",
    "for i in g:\n",
    "    print(i.game_id,i.user_id,i.quiz_id,i.success,i.duration)"
   ]
  },
  {
   "cell_type": "code",
   "execution_count": 31,
   "id": "3f18b60e",
   "metadata": {},
   "outputs": [
    {
     "ename": "TypeError",
     "evalue": "__init__() takes 1 positional argument but 12 were given",
     "output_type": "error",
     "traceback": [
      "\u001b[0;31m---------------------------------------------------------------------------\u001b[0m",
      "\u001b[0;31mTypeError\u001b[0m                                 Traceback (most recent call last)",
      "Input \u001b[0;32mIn [31]\u001b[0m, in \u001b[0;36m<cell line: 1>\u001b[0;34m()\u001b[0m\n\u001b[0;32m----> 1\u001b[0m u\u001b[38;5;241m=\u001b[39m\u001b[43mUser\u001b[49m\u001b[43m(\u001b[49m\u001b[38;5;241;43m11111\u001b[39;49m\u001b[43m,\u001b[49m\u001b[38;5;124;43m'\u001b[39;49m\u001b[38;5;124;43musername\u001b[39;49m\u001b[38;5;124;43m'\u001b[39;49m\u001b[43m,\u001b[49m\u001b[38;5;124;43m'\u001b[39;49m\u001b[38;5;124;43mpwd_hash\u001b[39;49m\u001b[38;5;124;43m'\u001b[39;49m\u001b[43m,\u001b[49m\u001b[38;5;241;43m0\u001b[39;49m\u001b[43m,\u001b[49m\u001b[38;5;241;43m0\u001b[39;49m\u001b[43m,\u001b[49m\u001b[38;5;241;43m0\u001b[39;49m\u001b[43m,\u001b[49m\u001b[38;5;241;43m0\u001b[39;49m\u001b[43m,\u001b[49m\u001b[38;5;241;43m0\u001b[39;49m\u001b[43m,\u001b[49m\u001b[38;5;241;43m0\u001b[39;49m\u001b[43m,\u001b[49m\u001b[38;5;241;43m0\u001b[39;49m\u001b[43m,\u001b[49m\u001b[38;5;241;43m0\u001b[39;49m\u001b[43m)\u001b[49m\n",
      "\u001b[0;31mTypeError\u001b[0m: __init__() takes 1 positional argument but 12 were given"
     ]
    }
   ],
   "source": [
    "u=User(11111,'username','pwd_hash',0,0,0,0,0,0,0,0)\n",
    "\n",
    "u.set_password(form.password.data)"
   ]
  },
  {
   "cell_type": "code",
   "execution_count": 4,
   "id": "6828063d",
   "metadata": {},
   "outputs": [
    {
     "data": {
      "text/plain": [
       "'1786646'"
      ]
     },
     "execution_count": 4,
     "metadata": {},
     "output_type": "execute_result"
    }
   ],
   "source": [
    "import string\n",
    "import random\n",
    "def id_generator(size=7, chars=string.digits):\n",
    "    return ''.join(random.choice(chars) for _ in range(size))\n",
    "id_generator()"
   ]
  },
  {
   "cell_type": "markdown",
   "id": "c351de6b",
   "metadata": {},
   "source": [
    "### INSERT USER DATA"
   ]
  },
  {
   "cell_type": "code",
   "execution_count": 41,
   "id": "37d2b11e",
   "metadata": {},
   "outputs": [],
   "source": [
    "import string\n",
    "import random\n",
    "\n",
    "def test_user(username,pwd):\n",
    "    while 1:\n",
    "        user_id=''.join(random.choice(string.digits) for _ in range(8))\n",
    "        try: \n",
    "            u = User(id=user_id, username=username,played=0, \n",
    "                     max_streak=0,current_streak=0,big_tree=0,\n",
    "                     tree=0, plant=0,small_plant=0,seed=0)\n",
    "            u.set_password(pwd)\n",
    "            db.session.add(u)\n",
    "            db.session.commit()\n",
    "            break     \n",
    "            \n",
    "        except exc.IntegrityError:\n",
    "            pass\n",
    "        except exc.PendingRollbackError:\n",
    "            db.session.rollback()\n",
    "\n",
    "test_user('hariv20', 'hi')\n"
   ]
  },
  {
   "cell_type": "markdown",
   "id": "32f6b367",
   "metadata": {},
   "source": [
    "## TEST INSERTING USER DATA"
   ]
  },
  {
   "cell_type": "code",
   "execution_count": 40,
   "id": "9757f891",
   "metadata": {},
   "outputs": [],
   "source": [
    "import string\n",
    "import random\n",
    "\n",
    "def test_user(username,pwd):\n",
    "        user_id=''.join(random.choice(string.digits) for _ in range(8))\n",
    "        \n",
    "        u = User(id=user_id, username=username,played=0, max_streak=0,current_streak=0,big_tree=0,tree=0, plant=0,small_plant=0,seed=0)\n",
    "        u.set_password(pwd)\n",
    "        \n",
    "        assert u.id == user_id\n",
    "        assert u.username == username\n",
    "        assert u.password_hash != pwd\n",
    "        \n",
    "        \n",
    "\n",
    "test_user('viggy','red20')\n"
   ]
  },
  {
   "cell_type": "code",
   "execution_count": null,
   "id": "a1f73e7f",
   "metadata": {},
   "outputs": [],
   "source": [
    "def test_new_user:\n",
    "    "
   ]
  },
  {
   "cell_type": "code",
   "execution_count": null,
   "id": "a069c776",
   "metadata": {},
   "outputs": [],
   "source": [
    "def test_existing_user:\n",
    "    pass\n"
   ]
  },
  {
   "cell_type": "markdown",
   "id": "7238f93b",
   "metadata": {},
   "source": [
    "# Updating user after post to game table - test:"
   ]
  },
  {
   "cell_type": "markdown",
   "id": "e83acaee",
   "metadata": {},
   "source": [
    "###### update game table:"
   ]
  },
  {
   "cell_type": "code",
   "execution_count": 57,
   "id": "c79bc6f2",
   "metadata": {},
   "outputs": [
    {
     "data": {
      "text/plain": [
       "85779176"
      ]
     },
     "execution_count": 57,
     "metadata": {},
     "output_type": "execute_result"
    }
   ],
   "source": [
    "User.query.filter(User.username=='hariv20').first().id # to give user_id"
   ]
  },
  {
   "cell_type": "code",
   "execution_count": 59,
   "id": "ba23b36a",
   "metadata": {},
   "outputs": [],
   "source": [
    "user_id= User.query.filter(User.username=='hariv20').first().id \n",
    "game_id=''.join(random.choice(string.digits) for _ in range(8))\n",
    "\n",
    "game= Game(game_id= game_id,user_id=user_id,quiz_id=1,success=True,duration=60)\n",
    "db.session.add(game)\n",
    "db.session.commit()\n"
   ]
  },
  {
   "cell_type": "code",
   "execution_count": null,
   "id": "abf417aa",
   "metadata": {},
   "outputs": [],
   "source": []
  },
  {
   "cell_type": "code",
   "execution_count": null,
   "id": "e22a7505",
   "metadata": {},
   "outputs": [],
   "source": []
  },
  {
   "cell_type": "code",
   "execution_count": null,
   "id": "0927bb8b",
   "metadata": {},
   "outputs": [],
   "source": [
    "def post_updates"
   ]
  }
 ],
 "metadata": {
  "kernelspec": {
   "display_name": "Python 3 (ipykernel)",
   "language": "python",
   "name": "python3"
  },
  "language_info": {
   "codemirror_mode": {
    "name": "ipython",
    "version": 3
   },
   "file_extension": ".py",
   "mimetype": "text/x-python",
   "name": "python",
   "nbconvert_exporter": "python",
   "pygments_lexer": "ipython3",
   "version": "3.8.10"
  }
 },
 "nbformat": 4,
 "nbformat_minor": 5
}
