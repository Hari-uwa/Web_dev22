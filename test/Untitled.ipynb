{
 "cells": [
  {
   "cell_type": "code",
   "execution_count": 3,
   "id": "c9ea588a",
   "metadata": {},
   "outputs": [],
   "source": [
    "import sys\n",
    "sys.path.append(\"..\") # allows for the previous directory to be searched too\n",
    "import unittest\n",
    "from app import db\n",
    "from app.models import Quiz,User,Game #imports Quiz table\n",
    "from sqlalchemy import exc"
   ]
  },
  {
   "cell_type": "code",
   "execution_count": null,
   "id": "30e762af",
   "metadata": {},
   "outputs": [],
   "source": [
    "class UserModelCase(unittest.TestCase):\n",
    "    \n",
    "    \n",
    "    def tearDown(self):\n",
    "        db.session.remove()\n",
    "        db.drop_all()\n",
    "        \n",
    "    \n",
    "    def pwd_hashing_test(self):\n",
    "        u = User(id=25,username='susan')\n",
    "        u.set_password('myfirstpasswor')\n",
    "        self.assertFalse(u.check_password('dog'))\n",
    "        self.assertTrue(u.check_password('cat'))\n",
    "    \n",
    "    \n",
    "    "
   ]
  }
 ],
 "metadata": {
  "kernelspec": {
   "display_name": "Python 3 (ipykernel)",
   "language": "python",
   "name": "python3"
  },
  "language_info": {
   "codemirror_mode": {
    "name": "ipython",
    "version": 3
   },
   "file_extension": ".py",
   "mimetype": "text/x-python",
   "name": "python",
   "nbconvert_exporter": "python",
   "pygments_lexer": "ipython3",
   "version": "3.8.10"
  }
 },
 "nbformat": 4,
 "nbformat_minor": 5
}
